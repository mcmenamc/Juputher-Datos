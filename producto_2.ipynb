{
  "nbformat": 4,
  "nbformat_minor": 0,
  "metadata": {
    "colab": {
      "name": "producto 2.ipynb",
      "provenance": [],
      "collapsed_sections": [],
      "authorship_tag": "ABX9TyN/wIRdlNJKp1aRxm9j6vBk",
      "include_colab_link": true
    },
    "kernelspec": {
      "name": "python3",
      "display_name": "Python 3"
    },
    "language_info": {
      "name": "python"
    }
  },
  "cells": [
    {
      "cell_type": "markdown",
      "metadata": {
        "id": "view-in-github",
        "colab_type": "text"
      },
      "source": [
        "<a href=\"https://colab.research.google.com/github/mcmenamc/Juputher-Datos/blob/main/producto_2.ipynb\" target=\"_parent\"><img src=\"https://colab.research.google.com/assets/colab-badge.svg\" alt=\"Open In Colab\"/></a>"
      ]
    },
    {
      "cell_type": "code",
      "execution_count": 278,
      "metadata": {
        "id": "H-7ky0XRxGrF"
      },
      "outputs": [],
      "source": [
        "import pandas as pd # Pandas es una librería de ciencias de datos.\n",
        "import matplotlib.pyplot as plt # Matplotlib es una librería de Python especializada en la creación de gráficos en dos dimensiones."
      ]
    },
    {
      "cell_type": "code",
      "source": [
        "data = pd.read_csv('./data/AirBnB_listings.csv', encoding='unicode_escape') #Lee un archivo de valores separados por comas (csv) en DataFrame."
      ],
      "metadata": {
        "id": "6WmKeSQ3xYvh"
      },
      "execution_count": 285,
      "outputs": []
    },
    {
      "cell_type": "code",
      "source": [
        "# Nos referimos a un proceso combinar los resultados en una estructura de datos.\n",
        "filtro = data.groupby(\"host_neighbourhood\")['review_scores_rating', 'review_scores_accuracy', 'review_scores_checkin', 'review_scores_communication', 'review_scores_location', 'review_scores_value', 'beds','minimum_minimum_nights', 'bedrooms'].aggregate('mean')\n",
        "# En está parte agrupamos los barrios anfitriones para sacar la media de las diferentes columnas que se muestran en el siguiente grafico"
      ],
      "metadata": {
        "id": "l3TVQymMxgEc"
      },
      "execution_count": null,
      "outputs": []
    },
    {
      "cell_type": "code",
      "source": [
        "# En está grafica se muestra el rating general de los registros de departamentos seleccionados \n",
        "eje_x = ['Calificación','Camas','noches', 'Habitaciones']\n",
        "eje_y = [data.review_scores_rating.mean(), data.beds.mean(), data.minimum_minimum_nights.mean(), data.bedrooms.mean()]\n",
        "plt.bar(eje_x, eje_y, width=0.5, color='#00CCBF')\n",
        "plt.ylabel('Rating')\n",
        "plt.xlabel('Registros valorados')\n",
        "plt.title(\"Promedio de departamentos\")\n",
        "plt.show()\n",
        "\n",
        "\n"
      ],
      "metadata": {
        "colab": {
          "base_uri": "https://localhost:8080/",
          "height": 295
        },
        "id": "cz7yDlDRCMst",
        "outputId": "7f14e5cc-da33-4514-aa68-a993405854b6"
      },
      "execution_count": 281,
      "outputs": [
        {
          "output_type": "display_data",
          "data": {
            "text/plain": [
              "<Figure size 432x288 with 1 Axes>"
            ],
            "image/png": "[encoded data removed]"
          },
          "metadata": {
            "needs_background": "light"
          }
        }
      ]
    },
    {
      "cell_type": "code",
      "source": [
        "#En está grafica se muestra los valores mínimos de los registros de los departamentos\n",
        "eje_x = ['Calificación','Camas','noches', 'Habitaciones']\n",
        "eje_y = [data.review_scores_rating.min(), data.beds.min(), data.minimum_minimum_nights.min(), data.bedrooms.min()]\n",
        "plt.bar(eje_x, eje_y, width=0.5, color='#00CCBF')\n",
        "plt.ylabel('Rating')\n",
        "plt.xlabel('Registros valorados')\n",
        "plt.title(\"Minimo de departamentos\")\n",
        "plt.show()"
      ],
      "metadata": {
        "colab": {
          "base_uri": "https://localhost:8080/",
          "height": 295
        },
        "id": "w7zeSg8_dbjl",
        "outputId": "a4fb0062-544e-4535-fda7-f068b1b29142"
      },
      "execution_count": 282,
      "outputs": [
        {
          "output_type": "display_data",
          "data": {
            "text/plain": [
              "<Figure size 432x288 with 1 Axes>"
            ],
            "image/png": "[encoded data removed]"
          },
          "metadata": {
            "needs_background": "light"
          }
        }
      ]
    },
    {
      "cell_type": "code",
      "source": [
        "# En está grafica se muestra los valores máximos de los registros de los departamentos\n",
        "eje_x = ['Calificación','Camas', 'Habitaciones']\n",
        "eje_y = [data.review_scores_rating.max(), data.beds.max(), data.bedrooms.max()]\n",
        "plt.bar(eje_x, eje_y, width=0.5, color='#00CCBF')\n",
        "plt.ylabel('Rating')\n",
        "plt.xlabel('Registros valorados')\n",
        "plt.title(\"Maximo de departamentos\")\n",
        "plt.show()"
      ],
      "metadata": {
        "colab": {
          "base_uri": "https://localhost:8080/",
          "height": 295
        },
        "id": "Lb2XTxehdnLO",
        "outputId": "9d915db9-4336-4a6d-b6c7-63c42338bbe1"
      },
      "execution_count": 288,
      "outputs": [
        {
          "output_type": "display_data",
          "data": {
            "text/plain": [
              "<Figure size 432x288 with 1 Axes>"
            ],
            "image/png": "[encoded data removed]"
          },
          "metadata": {
            "needs_background": "light"
          }
        }
      ]
    },
    {
      "cell_type": "code",
      "source": [
        "#Se crea un nuevo archivo .csv de los datos ya filtrados\n",
        "filtro.to_csv('./data/nuevo.csv')"
      ],
      "metadata": {
        "id": "pZX4-_4TiFme"
      },
      "execution_count": 289,
      "outputs": []
    }
  ]
}